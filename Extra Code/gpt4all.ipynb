{
 "cells": [
  {
   "cell_type": "code",
   "execution_count": null,
   "metadata": {},
   "outputs": [],
   "source": [
    "from gpt4all import GPT4All\n",
    "import json\n",
    "from nomic import embed"
   ]
  },
  {
   "cell_type": "code",
   "execution_count": null,
   "metadata": {},
   "outputs": [],
   "source": [
    "model = GPT4All(\"Meta-Llama-3-8B-Instruct.Q4_0.gguf\") # downloads / loads a 4.66GB LLM"
   ]
  },
  {
   "cell_type": "code",
   "execution_count": null,
   "metadata": {},
   "outputs": [],
   "source": [
    "strings = [\"String 1\", \"String 2\"]\n",
    "# embeddings = embed.text(strings, model=\"nomic-embed-text-v1.5\", inference_mode=\"local\")['embeddings']\n",
    "embeddings = embed.text(strings, inference_mode=\"local\")['embeddings']\n",
    "\n",
    "print(\"Number of embeddings created:\", len(embeddings))\n",
    "print(\"Number of dimensions per embedding:\", len(embeddings[0]))"
   ]
  },
  {
   "cell_type": "code",
   "execution_count": null,
   "metadata": {},
   "outputs": [],
   "source": [
    "trial_jsonFile = open('TrialOutput_ClinicalTrials\\CAAA113A22201_trial.json', 'r')\n",
    "trial = json.load(trial_jsonFile)\n",
    "trial_jsonFile.close()\n",
    "\n",
    "summary_jsonFile = open('TrialOutput_Summaries\\CAAA113A22201_summary.txt', 'r')\n",
    "summary = json.load(summary_jsonFile)\n",
    "summary_jsonFile.close()"
   ]
  },
  {
   "cell_type": "code",
   "execution_count": null,
   "metadata": {},
   "outputs": [],
   "source": [
    "trial"
   ]
  },
  {
   "cell_type": "code",
   "execution_count": null,
   "metadata": {},
   "outputs": [],
   "source": [
    "summary"
   ]
  },
  {
   "cell_type": "code",
   "execution_count": null,
   "metadata": {},
   "outputs": [],
   "source": [
    "doc = trial.get('Study Start/End Dates') + \"\\n\" + trial.get('Reason for Termination')\n",
    "context = f\"How long was the trial and what was the reason for termination? Please just give immediate answer depending on this information: {doc}\"\n",
    "context"
   ]
  },
  {
   "cell_type": "code",
   "execution_count": null,
   "metadata": {},
   "outputs": [],
   "source": [
    "with model.chat_session():\n",
    "    print(model.generate(context, max_tokens=2048))"
   ]
  },
  {
   "cell_type": "code",
   "execution_count": null,
   "metadata": {},
   "outputs": [],
   "source": []
  }
 ],
 "metadata": {
  "kernelspec": {
   "display_name": "thesis_env",
   "language": "python",
   "name": "python3"
  },
  "language_info": {
   "codemirror_mode": {
    "name": "ipython",
    "version": 3
   },
   "file_extension": ".py",
   "mimetype": "text/x-python",
   "name": "python",
   "nbconvert_exporter": "python",
   "pygments_lexer": "ipython3",
   "version": "3.8.16"
  }
 },
 "nbformat": 4,
 "nbformat_minor": 2
}
